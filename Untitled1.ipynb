{
 "cells": [
  {
   "cell_type": "code",
   "execution_count": 1,
   "id": "da7ee68a",
   "metadata": {},
   "outputs": [
    {
     "name": "stdout",
     "output_type": "stream",
     "text": [
      "8\n"
     ]
    }
   ],
   "source": [
    "def max_num(list):\n",
    "    max=list[0]\n",
    "    for a in list:\n",
    "        if a>max:\n",
    "            max=a\n",
    "    return max  \n",
    "print(max_num([1,3,5,8]))"
   ]
  },
  {
   "cell_type": "code",
   "execution_count": 7,
   "id": "493870b2",
   "metadata": {},
   "outputs": [
    {
     "name": "stdout",
     "output_type": "stream",
     "text": [
      "2.0\n"
     ]
    }
   ],
   "source": [
    "def avg_num(list):\n",
    "    avg=0\n",
    "    for i in list:\n",
    "        avg+=i\n",
    "    return avg/len(list) \n",
    "print (avg_num([1,2,3]))\n"
   ]
  },
  {
   "cell_type": "code",
   "execution_count": 10,
   "id": "b5c5bb1d",
   "metadata": {},
   "outputs": [
    {
     "name": "stdout",
     "output_type": "stream",
     "text": [
      "16\n"
     ]
    }
   ],
   "source": [
    "def num(x):\n",
    "    z=x*x\n",
    "    return z\n",
    "print(num(4))"
   ]
  },
  {
   "cell_type": "code",
   "execution_count": 11,
   "id": "a4152717",
   "metadata": {},
   "outputs": [
    {
     "data": {
      "text/plain": [
       "[1, 8, 27, 64, 125]"
      ]
     },
     "execution_count": 11,
     "metadata": {},
     "output_type": "execute_result"
    }
   ],
   "source": [
    "list=[i**3 for i in range(1,6)]\n",
    "list"
   ]
  }
 ],
 "metadata": {
  "kernelspec": {
   "display_name": "Python 3 (ipykernel)",
   "language": "python",
   "name": "python3"
  },
  "language_info": {
   "codemirror_mode": {
    "name": "ipython",
    "version": 3
   },
   "file_extension": ".py",
   "mimetype": "text/x-python",
   "name": "python",
   "nbconvert_exporter": "python",
   "pygments_lexer": "ipython3",
   "version": "3.9.7"
  }
 },
 "nbformat": 4,
 "nbformat_minor": 5
}
